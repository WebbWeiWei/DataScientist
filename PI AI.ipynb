{
 "cells": [
  {
   "cell_type": "markdown",
   "metadata": {},
   "source": [
    "# import各類module  "
   ]
  },
  {
   "cell_type": "code",
   "execution_count": 1,
   "metadata": {
    "collapsed": true
   },
   "outputs": [],
   "source": [
    "import pandas as pd"
   ]
  },
  {
   "cell_type": "code",
   "execution_count": null,
   "metadata": {
    "collapsed": true
   },
   "outputs": [],
   "source": [
    "import xgboost as xgb \n",
    "from xgboost import plot_importance #險是重要性\n",
    "import pickle  #存MODEL用"
   ]
  },
  {
   "cell_type": "code",
   "execution_count": null,
   "metadata": {
    "collapsed": true
   },
   "outputs": [],
   "source": [
    "from sklearn import preprocessing\n",
    "le = preprocessing.LabelEncoder()"
   ]
  },
  {
   "cell_type": "code",
   "execution_count": null,
   "metadata": {
    "collapsed": true
   },
   "outputs": [],
   "source": [
    "import matplotlib \n",
    "import matplotlib.pyplot as plt\n",
    "%matplotlib inline"
   ]
  },
  {
   "cell_type": "markdown",
   "metadata": {},
   "source": [
    "# 自寫function"
   ]
  },
  {
   "cell_type": "code",
   "execution_count": null,
   "metadata": {
    "collapsed": true
   },
   "outputs": [],
   "source": [
    "#補中位數\n",
    "def fillMedian(rawData,medianValue):\n",
    "    for i in medianValue:\n",
    "        med = rawData[i].median()\n",
    "        rawData[i] = rawData[i].fillna(med)\n",
    "    return rawData\n",
    "\n",
    "#補平均值\n",
    "def fillMean(rawData,medianValue):\n",
    "    for i in medianValue:\n",
    "        mean = rawData[i].mean()\n",
    "        rawData[i] = rawData[i].fillna(mean)\n",
    "    return rawData\n",
    "\n",
    "#補non\n",
    "def fillNon(rawData,nonValue):\n",
    "    for i in nonValue:\n",
    "        rawData[i] = rawData[i].fillna('none')\n",
    "    return rawData\n",
    "\n",
    "#補-1\n",
    "def fillm1(rawData,nonValue):\n",
    "    for i in nonValue:\n",
    "        rawData[i] = rawData[i].fillna(-1)\n",
    "    return rawData\n",
    "\n",
    "#補0\n",
    "def fillzero(rawData,nonValue):\n",
    "    for i in nonValue:\n",
    "        rawData[i] = rawData[i].fillna(0)\n",
    "    return rawData\n",
    "\n",
    "#補N\n",
    "def fillN(rawData,NValue):\n",
    "    for i in NValue:\n",
    "        rawData[i] = rawData[i].fillna('N')\n",
    "    return rawData\n",
    "\n",
    "#One-Hot-Code\n",
    "def oneHot(rawData,dummyValue):\n",
    "    dummyData = pd.get_dummies(data = rawData, columns=dummyValue)\n",
    "    return dummyData"
   ]
  },
  {
   "cell_type": "markdown",
   "metadata": {},
   "source": [
    "# 資料檢查"
   ]
  },
  {
   "cell_type": "code",
   "execution_count": null,
   "metadata": {
    "collapsed": true
   },
   "outputs": [],
   "source": [
    "# test = pd.read_csv('D:\\Python\\dataset\\TBN_CIF.csv') \n",
    "test[test['CUST_NO']=='5TLDP-9F8QUDYV3C']"
   ]
  },
  {
   "cell_type": "markdown",
   "metadata": {},
   "source": [
    "# 為了用mssql整理，先把資料去除雙引號 "
   ]
  },
  {
   "cell_type": "code",
   "execution_count": null,
   "metadata": {
    "collapsed": true
   },
   "outputs": [],
   "source": [
    "# 去除資料雙引號\n",
    "clean = pd.read_csv('D:\\Python\\dataset\\TBN_CUST_BEHAVIOR.csv')\n",
    "clean.to_csv('D:\\Python\\dataset\\TBN_CUST_BEHAVIOR_clear.csv',index=False,sep='|')"
   ]
  },
  {
   "cell_type": "markdown",
   "metadata": {},
   "source": [
    "# 瀏覽資料整理"
   ]
  },
  {
   "cell_type": "code",
   "execution_count": null,
   "metadata": {
    "collapsed": true
   },
   "outputs": [],
   "source": [
    "webView = pd.read_csv('D:\\Python\\dataset\\TBN_CUST_BEHAVIOR.csv')"
   ]
  },
  {
   "cell_type": "code",
   "execution_count": null,
   "metadata": {
    "collapsed": true
   },
   "outputs": [],
   "source": [
    "webView[:3]"
   ]
  },
  {
   "cell_type": "code",
   "execution_count": null,
   "metadata": {
    "collapsed": true
   },
   "outputs": [],
   "source": [
    "new = webView['PAGE'].str.split('/',n=1, expand = True) "
   ]
  },
  {
   "cell_type": "code",
   "execution_count": null,
   "metadata": {
    "collapsed": true
   },
   "outputs": [],
   "source": [
    "webView_sep = pd.merge(webView,new,how='left',left_index=True, right_index=True)"
   ]
  },
  {
   "cell_type": "code",
   "execution_count": null,
   "metadata": {
    "collapsed": true
   },
   "outputs": [],
   "source": [
    "webView_sep[:3]"
   ]
  },
  {
   "cell_type": "code",
   "execution_count": null,
   "metadata": {
    "collapsed": true
   },
   "outputs": [],
   "source": [
    "webView_sep = pd.merge(webView_sep,pd.DataFrame(le.fit_transform(webView_sep[1])),how='left',left_index=True, right_index=True)"
   ]
  },
  {
   "cell_type": "code",
   "execution_count": null,
   "metadata": {
    "collapsed": true
   },
   "outputs": [],
   "source": [
    "webView_sep = webView_sep.rename(columns = {'0_y':'siteLable'})[['CUST_NO','VISITDATE','siteLable']]"
   ]
  },
  {
   "cell_type": "code",
   "execution_count": null,
   "metadata": {
    "collapsed": true
   },
   "outputs": [],
   "source": [
    "webView_sep[:3]"
   ]
  },
  {
   "cell_type": "code",
   "execution_count": null,
   "metadata": {
    "collapsed": true
   },
   "outputs": [],
   "source": [
    "webView_sep_top_55 = webView_sep[webView_sep['siteLable'].isin([228,227,78,198,80,434,91,648,514,13,209,92,201,97,652,349,498,102,640,48,650,226,98,233,60,170,182,538,275,601,216,69,399,558,146,491,100,431,461,199,465,77,255,353,225,50,262,470,488,177,459,190,36,230,460])]"
   ]
  },
  {
   "cell_type": "code",
   "execution_count": null,
   "metadata": {
    "collapsed": true
   },
   "outputs": [],
   "source": [
    "webView_sep_top_55[:3]"
   ]
  },
  {
   "cell_type": "code",
   "execution_count": null,
   "metadata": {
    "collapsed": true
   },
   "outputs": [],
   "source": [
    "webView_sep_top_55_pivot = webView_sep_top_55.groupby(['CUST_NO','siteLable'], as_index=False).count().pivot(index='CUST_NO', columns='siteLable', values='VISITDATE').reset_index().fillna(0)"
   ]
  },
  {
   "cell_type": "code",
   "execution_count": null,
   "metadata": {
    "collapsed": true
   },
   "outputs": [],
   "source": [
    "webView_sep_top_55_pivot[:3]"
   ]
  },
  {
   "cell_type": "code",
   "execution_count": null,
   "metadata": {
    "collapsed": true
   },
   "outputs": [],
   "source": [
    "webView_sep_top_55_pivot[webView_sep_top_55_pivot['CUST_NO']=='AZTHNWQ_LXMGIMYG']"
   ]
  },
  {
   "cell_type": "markdown",
   "metadata": {},
   "source": [
    "# 資料處理 (一次就好_cleanData.csv，處理完再用MSSQL處理)"
   ]
  },
  {
   "cell_type": "code",
   "execution_count": null,
   "metadata": {
    "collapsed": true
   },
   "outputs": [],
   "source": [
    "baseSet = pd.read_csv('D:\\Python\\dataset\\CleanData.txt')"
   ]
  },
  {
   "cell_type": "code",
   "execution_count": null,
   "metadata": {
    "collapsed": true
   },
   "outputs": [],
   "source": [
    "baseSet[:2]"
   ]
  },
  {
   "cell_type": "code",
   "execution_count": null,
   "metadata": {
    "collapsed": true
   },
   "outputs": [],
   "source": [
    "# 整理補值欄位\n",
    "fill_m1 = list(['CHILDREN_CNT','EDU_CODE','INCOME_RANGE_CODE','WORK_MTHS'])\n",
    "fill_N = list(['GENDER_CODE'])\n",
    "dummyVal = list(['CHILDREN_CNT','EDU_CODE','GENDER_CODE','INCOME_RANGE_CODE','WORK_MTHS'])"
   ]
  },
  {
   "cell_type": "code",
   "execution_count": null,
   "metadata": {
    "collapsed": true
   },
   "outputs": [],
   "source": [
    "# 開始補值\n",
    "baseSet = fillN(baseSet,fill_N)\n",
    "baseSet = fillm1(baseSet,fill_m1)\n",
    "baseSet = oneHot(baseSet,dummyVal)"
   ]
  },
  {
   "cell_type": "code",
   "execution_count": null,
   "metadata": {
    "collapsed": true
   },
   "outputs": [],
   "source": [
    "# 輸出資料\n",
    "baseSet.to_csv('D:\\Python\\dataset\\cleanData.csv',index=False)"
   ]
  },
  {
   "cell_type": "markdown",
   "metadata": {},
   "source": [
    "# 建模前資料整理 (將前階端資料用MSSQL整理後使用)"
   ]
  },
  {
   "cell_type": "code",
   "execution_count": null,
   "metadata": {
    "collapsed": true
   },
   "outputs": [],
   "source": [
    "# MSSQL處理完的BASE資料\n",
    "cleanSet = pd.read_csv('D:\\Python\\dataset\\data_v1.csv')\n",
    "cc_set = pd.read_csv('D:\\Python\\dataset\\data_v1_cc.csv')\n",
    "fx_set = pd.read_csv('D:\\Python\\dataset\\data_v1_fx.csv')\n",
    "ln_set = pd.read_csv('D:\\Python\\dataset\\data_v1_ln.csv')\n",
    "wm_set = pd.read_csv('D:\\Python\\dataset\\data_v1_wm.csv')"
   ]
  },
  {
   "cell_type": "code",
   "execution_count": null,
   "metadata": {
    "collapsed": true
   },
   "outputs": [],
   "source": [
    "cleanSet=pd.merge(cleanSet,webView_sep_top_55_pivot,how='left',left_on='cust_no', right_on='CUST_NO').fillna(0)\n",
    "cc_set=pd.merge(cc_set,webView_sep_top_55_pivot,how='left',left_on='cust_no', right_on='CUST_NO').fillna(0)\n",
    "fx_set=pd.merge(fx_set,webView_sep_top_55_pivot,how='left',left_on='cust_no', right_on='CUST_NO').fillna(0)\n",
    "ln_set=pd.merge(ln_set,webView_sep_top_55_pivot,how='left',left_on='cust_no', right_on='CUST_NO').fillna(0)\n",
    "wm_set=pd.merge(wm_set,webView_sep_top_55_pivot,how='left',left_on='cust_no', right_on='CUST_NO').fillna(0)"
   ]
  },
  {
   "cell_type": "code",
   "execution_count": null,
   "metadata": {
    "collapsed": true
   },
   "outputs": [],
   "source": [
    "list(cleanSet)"
   ]
  },
  {
   "cell_type": "code",
   "execution_count": null,
   "metadata": {
    "collapsed": true
   },
   "outputs": [],
   "source": [
    "orig_data = cleanSet[['AGE','CUST_START_DT','CHILDREN_CNT_-1 0','CHILDREN_CNT_0 0','CHILDREN_CNT_1 0','CHILDREN_CNT_2 0','CHILDREN_CNT_3 0','CHILDREN_CNT_4 0','CHILDREN_CNT_5 0','CHILDREN_CNT_6 0','CHILDREN_CNT_9 0','CHILDREN_CNT_10 0','EDU_CODE_-1 0','EDU_CODE_1 0','EDU_CODE_2 0','EDU_CODE_3 0','EDU_CODE_4 0','EDU_CODE_5 0','EDU_CODE_6 0','GENDER_CODE_F','GENDER_CODE_M','GENDER_CODE_N','INCOME_RANGE_CODE_-1 0','INCOME_RANGE_CODE_1 0','INCOME_RANGE_CODE_2 0','INCOME_RANGE_CODE_3 0','INCOME_RANGE_CODE_4 0','WORK_MTHS_-1 0','WORK_MTHS_1 0','WORK_MTHS_2 0','WORK_MTHS_3 0','WORK_MTHS_4 0','WORK_MTHS_5 0','start_CC','end_1_CC','end_2_CC','end_3_CC','end_4_CC','end_5_CC','start_fx','end_1_fx','end_2_fx','end_3_fx','end_4_fx','end_5_fx','start_ln','end_1_ln','end_2_ln','end_3_ln','end_4_ln','end_5_ln','start_wm','end_1_wm','end_2_wm','end_3_wm','end_4_wm','end_5_wm',13,36,48,50,60,69,77,78,80,91,92,97,98,100,102,146,170,177,182,190,198,199,201,209,216,225,226,227,228,230,233,255,262,275,349,353,399,431,434,459,460,461,465,470,488,491,498,514,538,558,601,640,648,650,652]].values\n",
    "cc_data = cc_set[['AGE','CUST_START_DT','CHILDREN_CNT_-1 0','CHILDREN_CNT_0 0','CHILDREN_CNT_1 0','CHILDREN_CNT_2 0','CHILDREN_CNT_3 0','CHILDREN_CNT_4 0','CHILDREN_CNT_5 0','CHILDREN_CNT_6 0','CHILDREN_CNT_9 0','CHILDREN_CNT_10 0','EDU_CODE_-1 0','EDU_CODE_1 0','EDU_CODE_2 0','EDU_CODE_3 0','EDU_CODE_4 0','EDU_CODE_5 0','EDU_CODE_6 0','GENDER_CODE_F','GENDER_CODE_M','GENDER_CODE_N','INCOME_RANGE_CODE_-1 0','INCOME_RANGE_CODE_1 0','INCOME_RANGE_CODE_2 0','INCOME_RANGE_CODE_3 0','INCOME_RANGE_CODE_4 0','WORK_MTHS_-1 0','WORK_MTHS_1 0','WORK_MTHS_2 0','WORK_MTHS_3 0','WORK_MTHS_4 0','WORK_MTHS_5 0','start_CC','end_1_CC','end_2_CC','end_3_CC','end_4_CC','end_5_CC','start_fx','end_1_fx','end_2_fx','end_3_fx','end_4_fx','end_5_fx','start_ln','end_1_ln','end_2_ln','end_3_ln','end_4_ln','end_5_ln','start_wm','end_1_wm','end_2_wm','end_3_wm','end_4_wm','end_5_wm',13,36,48,50,60,69,77,78,80,91,92,97,98,100,102,146,170,177,182,190,198,199,201,209,216,225,226,227,228,230,233,255,262,275,349,353,399,431,434,459,460,461,465,470,488,491,498,514,538,558,601,640,648,650,652]].values\n",
    "fx_data = fx_set[['AGE','CUST_START_DT','CHILDREN_CNT_-1 0','CHILDREN_CNT_0 0','CHILDREN_CNT_1 0','CHILDREN_CNT_2 0','CHILDREN_CNT_3 0','CHILDREN_CNT_4 0','CHILDREN_CNT_5 0','CHILDREN_CNT_6 0','CHILDREN_CNT_9 0','CHILDREN_CNT_10 0','EDU_CODE_-1 0','EDU_CODE_1 0','EDU_CODE_2 0','EDU_CODE_3 0','EDU_CODE_4 0','EDU_CODE_5 0','EDU_CODE_6 0','GENDER_CODE_F','GENDER_CODE_M','GENDER_CODE_N','INCOME_RANGE_CODE_-1 0','INCOME_RANGE_CODE_1 0','INCOME_RANGE_CODE_2 0','INCOME_RANGE_CODE_3 0','INCOME_RANGE_CODE_4 0','WORK_MTHS_-1 0','WORK_MTHS_1 0','WORK_MTHS_2 0','WORK_MTHS_3 0','WORK_MTHS_4 0','WORK_MTHS_5 0','start_CC','end_1_CC','end_2_CC','end_3_CC','end_4_CC','end_5_CC','start_fx','end_1_fx','end_2_fx','end_3_fx','end_4_fx','end_5_fx','start_ln','end_1_ln','end_2_ln','end_3_ln','end_4_ln','end_5_ln','start_wm','end_1_wm','end_2_wm','end_3_wm','end_4_wm','end_5_wm',13,36,48,50,60,69,77,78,80,91,92,97,98,100,102,146,170,177,182,190,198,199,201,209,216,225,226,227,228,230,233,255,262,275,349,353,399,431,434,459,460,461,465,470,488,491,498,514,538,558,601,640,648,650,652]].values\n",
    "ln_data = ln_set[['AGE','CUST_START_DT','CHILDREN_CNT_-1 0','CHILDREN_CNT_0 0','CHILDREN_CNT_1 0','CHILDREN_CNT_2 0','CHILDREN_CNT_3 0','CHILDREN_CNT_4 0','CHILDREN_CNT_5 0','CHILDREN_CNT_6 0','CHILDREN_CNT_9 0','CHILDREN_CNT_10 0','EDU_CODE_-1 0','EDU_CODE_1 0','EDU_CODE_2 0','EDU_CODE_3 0','EDU_CODE_4 0','EDU_CODE_5 0','EDU_CODE_6 0','GENDER_CODE_F','GENDER_CODE_M','GENDER_CODE_N','INCOME_RANGE_CODE_-1 0','INCOME_RANGE_CODE_1 0','INCOME_RANGE_CODE_2 0','INCOME_RANGE_CODE_3 0','INCOME_RANGE_CODE_4 0','WORK_MTHS_-1 0','WORK_MTHS_1 0','WORK_MTHS_2 0','WORK_MTHS_3 0','WORK_MTHS_4 0','WORK_MTHS_5 0','start_CC','end_1_CC','end_2_CC','end_3_CC','end_4_CC','end_5_CC','start_fx','end_1_fx','end_2_fx','end_3_fx','end_4_fx','end_5_fx','start_ln','end_1_ln','end_2_ln','end_3_ln','end_4_ln','end_5_ln','start_wm','end_1_wm','end_2_wm','end_3_wm','end_4_wm','end_5_wm',13,36,48,50,60,69,77,78,80,91,92,97,98,100,102,146,170,177,182,190,198,199,201,209,216,225,226,227,228,230,233,255,262,275,349,353,399,431,434,459,460,461,465,470,488,491,498,514,538,558,601,640,648,650,652]].values\n",
    "wm_data = wm_set[['AGE','CUST_START_DT','CHILDREN_CNT_-1 0','CHILDREN_CNT_0 0','CHILDREN_CNT_1 0','CHILDREN_CNT_2 0','CHILDREN_CNT_3 0','CHILDREN_CNT_4 0','CHILDREN_CNT_5 0','CHILDREN_CNT_6 0','CHILDREN_CNT_9 0','CHILDREN_CNT_10 0','EDU_CODE_-1 0','EDU_CODE_1 0','EDU_CODE_2 0','EDU_CODE_3 0','EDU_CODE_4 0','EDU_CODE_5 0','EDU_CODE_6 0','GENDER_CODE_F','GENDER_CODE_M','GENDER_CODE_N','INCOME_RANGE_CODE_-1 0','INCOME_RANGE_CODE_1 0','INCOME_RANGE_CODE_2 0','INCOME_RANGE_CODE_3 0','INCOME_RANGE_CODE_4 0','WORK_MTHS_-1 0','WORK_MTHS_1 0','WORK_MTHS_2 0','WORK_MTHS_3 0','WORK_MTHS_4 0','WORK_MTHS_5 0','start_CC','end_1_CC','end_2_CC','end_3_CC','end_4_CC','end_5_CC','start_fx','end_1_fx','end_2_fx','end_3_fx','end_4_fx','end_5_fx','start_ln','end_1_ln','end_2_ln','end_3_ln','end_4_ln','end_5_ln','start_wm','end_1_wm','end_2_wm','end_3_wm','end_4_wm','end_5_wm',13,36,48,50,60,69,77,78,80,91,92,97,98,100,102,146,170,177,182,190,198,199,201,209,216,225,226,227,228,230,233,255,262,275,349,353,399,431,434,459,460,461,465,470,488,491,498,514,538,558,601,640,648,650,652]].values\n",
    "orig_data_CustNO = cleanSet['cust_no']\n",
    "cc_target = cc_set['flag_cc']\n",
    "fx_target = fx_set['flag_fx']\n",
    "ln_target = ln_set['flag_ln']\n",
    "wm_target = wm_set['flag_wm']"
   ]
  },
  {
   "cell_type": "code",
   "execution_count": null,
   "metadata": {
    "collapsed": true
   },
   "outputs": [],
   "source": [
    "origSet = xgb.DMatrix(orig_data)\n",
    "cc_train = xgb.DMatrix(cc_data, cc_target)\n",
    "fx_train = xgb.DMatrix(fx_data, fx_target)\n",
    "ln_train = xgb.DMatrix(ln_data, ln_target)\n",
    "wm_train = xgb.DMatrix(wm_data, wm_target)"
   ]
  },
  {
   "cell_type": "markdown",
   "metadata": {},
   "source": [
    "# 開始建模"
   ]
  },
  {
   "cell_type": "code",
   "execution_count": 182,
   "metadata": {
    "collapsed": true
   },
   "outputs": [],
   "source": [
    "params = {\n",
    "    'booster': 'gbtree',\n",
    "    'objective': 'multi:softmax',  # 多分类的问题\n",
    "    'num_class': 10,               # 类别数，与 multisoftmax 并用\n",
    "    'gamma': 0.1,                  # 用于控制是否后剪枝的参数,越大越保守，一般0.1、0.2这样子。\n",
    "    'max_depth': 12,               # 构建树的深度，越大越容易过拟合\n",
    "    'lambda': 2,                   # 控制模型复杂度的权重值的L2正则化项参数，参数越大，模型越不容易过拟合。\n",
    "    'subsample': 0.7,              # 随机采样训练样本\n",
    "    'colsample_bytree': 0.7,       # 生成树时进行的列采样\n",
    "    'min_child_weight': 3,\n",
    "    'silent': 0,                   # 设置成1则没有运行信息输出，最好是设置为0.\n",
    "    'eta': 0.007,                  # 如同学习率\n",
    "    'seed': 1000,\n",
    "    'nthread': 4,                  # cpu 线程数\n",
    "}\n",
    "plst = params.items()"
   ]
  },
  {
   "cell_type": "code",
   "execution_count": 226,
   "metadata": {
    "collapsed": true
   },
   "outputs": [],
   "source": [
    "params_cc = {\n",
    "    'booster': 'gbtree',\n",
    "    'objective': 'binary:logistic',  # 二元分類的问题\n",
    "#     'objective': 'multi:softmax',  # 多分类的问题\n",
    "#     'num_class': 10,               # 类别数，与 multisoftmax 并用\n",
    "    'gamma': 0.1,                  # 用于控制是否后剪枝的参数,越大越保守，一般0.1、0.2这样子。\n",
    "    'max_depth': 12,               # 构建树的深度，越大越容易过拟合\n",
    "    'lambda': 2,                   # 控制模型复杂度的权重值的L2正则化项参数，参数越大，模型越不容易过拟合。\n",
    "    'subsample': 0.7,              # 随机采样训练样本\n",
    "    'colsample_bytree': 0.7,       # 生成树时进行的列采样\n",
    "    'min_child_weight': 3,\n",
    "    'silent': 0,                   # 设置成1则没有运行信息输出，最好是设置为0.\n",
    "    'eta': 0.007,                  # 如同学习率\n",
    "    'seed': 1000,\n",
    "    'nthread': 4,                  # cpu 线程数\n",
    "}\n",
    "plst_cc = params_cc.items()"
   ]
  },
  {
   "cell_type": "code",
   "execution_count": 227,
   "metadata": {
    "collapsed": true
   },
   "outputs": [],
   "source": [
    "params_fx = {\n",
    "    'booster': 'gbtree',\n",
    "    'objective': 'binary:logistic',  # 二元分類的问题\n",
    "#     'objective': 'multi:softmax',  # 多分类的问题\n",
    "#     'num_class': 10,               # 类别数，与 multisoftmax 并用\n",
    "    'gamma': 0.1,                  # 用于控制是否后剪枝的参数,越大越保守，一般0.1、0.2这样子。\n",
    "    'max_depth': 12,               # 构建树的深度，越大越容易过拟合\n",
    "    'lambda': 2,                   # 控制模型复杂度的权重值的L2正则化项参数，参数越大，模型越不容易过拟合。\n",
    "    'subsample': 0.7,              # 随机采样训练样本\n",
    "    'colsample_bytree': 0.7,       # 生成树时进行的列采样\n",
    "    'min_child_weight': 3,\n",
    "    'silent': 0,                   # 设置成1则没有运行信息输出，最好是设置为0.\n",
    "    'eta': 0.007,                  # 如同学习率\n",
    "    'seed': 1000,\n",
    "    'nthread': 4,                  # cpu 线程数\n",
    "}\n",
    "plst_fx = params_fx.items()"
   ]
  },
  {
   "cell_type": "code",
   "execution_count": 228,
   "metadata": {
    "collapsed": true
   },
   "outputs": [],
   "source": [
    "params_ln = {\n",
    "    'booster': 'gbtree',\n",
    "    'objective': 'binary:logistic',  # 二元分類的问题\n",
    "#     'objective': 'multi:softmax',  # 多分类的问题\n",
    "#     'num_class': 10,               # 类别数，与 multisoftmax 并用\n",
    "    'gamma': 0.1,                  # 用于控制是否后剪枝的参数,越大越保守，一般0.1、0.2这样子。\n",
    "    'max_depth': 12,               # 构建树的深度，越大越容易过拟合\n",
    "    'lambda': 2,                   # 控制模型复杂度的权重值的L2正则化项参数，参数越大，模型越不容易过拟合。\n",
    "    'subsample': 0.7,              # 随机采样训练样本\n",
    "    'colsample_bytree': 0.7,       # 生成树时进行的列采样\n",
    "    'min_child_weight': 3,\n",
    "    'silent': 0,                   # 设置成1则没有运行信息输出，最好是设置为0.\n",
    "    'eta': 0.007,                  # 如同学习率\n",
    "    'seed': 1000,\n",
    "    'nthread': 4,                  # cpu 线程数\n",
    "}\n",
    "plst_ln = params_ln.items()"
   ]
  },
  {
   "cell_type": "code",
   "execution_count": 229,
   "metadata": {
    "collapsed": true
   },
   "outputs": [],
   "source": [
    "params_wm = {\n",
    "    'booster': 'gbtree',\n",
    "    'objective': 'binary:logistic',  # 二元分類的问题\n",
    "#     'objective': 'multi:softmax',  # 多分类的问题\n",
    "#     'num_class': 10,               # 类别数，与 multisoftmax 并用\n",
    "    'gamma': 0.1,                  # 用于控制是否后剪枝的参数,越大越保守，一般0.1、0.2这样子。\n",
    "    'max_depth': 12,               # 构建树的深度，越大越容易过拟合\n",
    "    'lambda': 2,                   # 控制模型复杂度的权重值的L2正则化项参数，参数越大，模型越不容易过拟合。\n",
    "    'subsample': 0.7,              # 随机采样训练样本\n",
    "    'colsample_bytree': 0.7,       # 生成树时进行的列采样\n",
    "    'min_child_weight': 3,\n",
    "    'silent': 0,                   # 设置成1则没有运行信息输出，最好是设置为0.\n",
    "    'eta': 0.007,                  # 如同学习率\n",
    "    'seed': 1000,\n",
    "    'nthread': 4,                  # cpu 线程数\n",
    "}\n",
    "plst_wm = params_wm.items()"
   ]
  },
  {
   "cell_type": "code",
   "execution_count": null,
   "metadata": {
    "collapsed": true
   },
   "outputs": [],
   "source": [
    "num_rounds = 500"
   ]
  },
  {
   "cell_type": "code",
   "execution_count": 230,
   "metadata": {
    "collapsed": true
   },
   "outputs": [],
   "source": [
    "cc_model = xgb.train(plst_cc, cc_train, num_rounds)"
   ]
  },
  {
   "cell_type": "code",
   "execution_count": 232,
   "metadata": {
    "collapsed": true
   },
   "outputs": [],
   "source": [
    "fx_model = xgb.train(plst_fx, fx_train, num_rounds)"
   ]
  },
  {
   "cell_type": "code",
   "execution_count": 183,
   "metadata": {
    "collapsed": true
   },
   "outputs": [],
   "source": [
    "ln_model = xgb.train(plst_ln, ln_train, num_rounds)"
   ]
  },
  {
   "cell_type": "code",
   "execution_count": 184,
   "metadata": {
    "collapsed": true
   },
   "outputs": [],
   "source": [
    "wm_model = xgb.train(plst_wm, wm_train, num_rounds)"
   ]
  },
  {
   "cell_type": "markdown",
   "metadata": {},
   "source": [
    "# 重要屬性導出 "
   ]
  },
  {
   "cell_type": "code",
   "execution_count": 238,
   "metadata": {
    "collapsed": true
   },
   "outputs": [],
   "source": [
    "# dump model\n",
    "cc_model.dump_model('D:\\Python\\dataset\\dump.raw.txt')\n",
    "# dump model with feature map\n",
    "# cc_model.dump_model('dump.raw.txt','featmap.txt')"
   ]
  },
  {
   "cell_type": "markdown",
   "metadata": {},
   "source": [
    "# 模型儲存與讀取 _ 一般"
   ]
  },
  {
   "cell_type": "code",
   "execution_count": null,
   "metadata": {
    "collapsed": true
   },
   "outputs": [],
   "source": [
    "cc_model.save_model('D:\\Python\\dataset\\model_cc.pickle_20190224_01.model')\n",
    "fx_model.save_model('D:\\Python\\dataset\\model_fx.pickle_20190224_01.model')\n",
    "ln_model.save_model('D:\\Python\\dataset\\model_ln.pickle_20190224_01.model')\n",
    "wm_model.save_model('D:\\Python\\dataset\\model_wm.pickle_20190224_01.model')"
   ]
  },
  {
   "cell_type": "markdown",
   "metadata": {},
   "source": [
    "# 模型儲存與讀取 _ pickle"
   ]
  },
  {
   "cell_type": "code",
   "execution_count": null,
   "metadata": {
    "collapsed": true
   },
   "outputs": [],
   "source": [
    "# save model _20190221\n",
    "pickle.dump(cc_model, open(\"D:\\Python\\dataset\\model_cc.pickle_20190224_01.dat\", \"wb\"))\n",
    "pickle.dump(fx_model, open(\"D:\\Python\\dataset\\model_fx.pickle_20190224_01.dat\", \"wb\"))\n",
    "pickle.dump(ln_model, open(\"D:\\Python\\dataset\\model_ln.pickle_20190224_01.dat\", \"wb\"))\n",
    "pickle.dump(wm_model, open(\"D:\\Python\\dataset\\model_wm.pickle_20190224_01.dat\", \"wb\"))"
   ]
  },
  {
   "cell_type": "code",
   "execution_count": null,
   "metadata": {
    "collapsed": true
   },
   "outputs": [],
   "source": [
    "#load model\n",
    "# loaded_model = pickle.load(open(\"D:\\Python\\dataset\\cc_model.pickle.dat\", \"rb\"))"
   ]
  },
  {
   "cell_type": "markdown",
   "metadata": {},
   "source": [
    "#  開始預測"
   ]
  },
  {
   "cell_type": "code",
   "execution_count": 218,
   "metadata": {
    "collapsed": true
   },
   "outputs": [],
   "source": [
    "# 預測\n",
    "# ans_cc = cc_model.predict(origSet)\n",
    "# ans_fx = fx_model.predict(origSet)\n",
    "ans_ln = ln_model.predict(origSet)\n",
    "ans_wm = wm_model.predict(origSet)"
   ]
  },
  {
   "cell_type": "code",
   "execution_count": 219,
   "metadata": {
    "collapsed": true
   },
   "outputs": [],
   "source": [
    "ans_ln = (ans_ln >= 0.85)*1\n",
    "ans_wm = (ans_wm >= 0.85)*1"
   ]
  },
  {
   "cell_type": "markdown",
   "metadata": {},
   "source": [
    "# 結果處理與輸出"
   ]
  },
  {
   "cell_type": "code",
   "execution_count": 220,
   "metadata": {
    "collapsed": true
   },
   "outputs": [],
   "source": [
    "# 合併結果\n",
    "Output = pd.DataFrame({'CUST_NO':orig_data_CustNO, 'CC_IND':ans_cc.astype('int'),'FX_IND':ans_fx.astype('int'),'LN_IND':ans_ln.astype('int'),'WM_IND':ans_wm.astype('int')})\n",
    "Output = Output[['CUST_NO','CC_IND','FX_IND','LN_IND','WM_IND']]"
   ]
  },
  {
   "cell_type": "code",
   "execution_count": 221,
   "metadata": {
    "collapsed": true
   },
   "outputs": [],
   "source": [
    "#只選主辦單位要求的名單\n",
    "orig = pd.read_csv('D:\\Python\\dataset\\TBN_Y_ZERO.csv')\n",
    "orig_cust = pd.DataFrame(orig['CUST_NO'])\n",
    "result = pd.merge(orig_cust, Output,how='left' ,on='CUST_NO')\n",
    "\n",
    "#補0\n",
    "fill_zero = list(['CC_IND','FX_IND','LN_IND','WM_IND'])\n",
    "result = fillzero(result,fill_zero)\n",
    "\n",
    "result.CC_IND = result.CC_IND.astype('int')\n",
    "result.FX_IND = result.FX_IND.astype('int')\n",
    "result.LN_IND = result.LN_IND.astype('int')\n",
    "result.WM_IND = result.WM_IND.astype('int')"
   ]
  },
  {
   "cell_type": "code",
   "execution_count": 225,
   "metadata": {},
   "outputs": [
    {
     "data": {
      "text/html": [
       "<div>\n",
       "<style>\n",
       "    .dataframe thead tr:only-child th {\n",
       "        text-align: right;\n",
       "    }\n",
       "\n",
       "    .dataframe thead th {\n",
       "        text-align: left;\n",
       "    }\n",
       "\n",
       "    .dataframe tbody tr th {\n",
       "        vertical-align: top;\n",
       "    }\n",
       "</style>\n",
       "<table border=\"1\" class=\"dataframe\">\n",
       "  <thead>\n",
       "    <tr style=\"text-align: right;\">\n",
       "      <th></th>\n",
       "      <th>CUST_NO</th>\n",
       "      <th>CC_IND</th>\n",
       "      <th>FX_IND</th>\n",
       "      <th>LN_IND</th>\n",
       "      <th>WM_IND</th>\n",
       "    </tr>\n",
       "  </thead>\n",
       "  <tbody>\n",
       "    <tr>\n",
       "      <th>0</th>\n",
       "      <td>_PT5HFBEZJKOZ934</td>\n",
       "      <td>0</td>\n",
       "      <td>0</td>\n",
       "      <td>0</td>\n",
       "      <td>0</td>\n",
       "    </tr>\n",
       "    <tr>\n",
       "      <th>1</th>\n",
       "      <td>6STXUMWZRDCGSDDU</td>\n",
       "      <td>1</td>\n",
       "      <td>0</td>\n",
       "      <td>0</td>\n",
       "      <td>0</td>\n",
       "    </tr>\n",
       "  </tbody>\n",
       "</table>\n",
       "</div>"
      ],
      "text/plain": [
       "            CUST_NO  CC_IND  FX_IND  LN_IND  WM_IND\n",
       "0  _PT5HFBEZJKOZ934       0       0       0       0\n",
       "1  6STXUMWZRDCGSDDU       1       0       0       0"
      ]
     },
     "execution_count": 225,
     "metadata": {},
     "output_type": "execute_result"
    }
   ],
   "source": [
    "result.to_csv('D:\\Python\\dataset\\output_20190224_03.csv',index=False,quoting=2)\n",
    "result[:2]"
   ]
  },
  {
   "cell_type": "code",
   "execution_count": null,
   "metadata": {
    "collapsed": true
   },
   "outputs": [],
   "source": [
    "result[:10]"
   ]
  },
  {
   "cell_type": "code",
   "execution_count": 208,
   "metadata": {},
   "outputs": [
    {
     "data": {
      "text/html": [
       "<div>\n",
       "<style>\n",
       "    .dataframe thead tr:only-child th {\n",
       "        text-align: right;\n",
       "    }\n",
       "\n",
       "    .dataframe thead th {\n",
       "        text-align: left;\n",
       "    }\n",
       "\n",
       "    .dataframe tbody tr th {\n",
       "        vertical-align: top;\n",
       "    }\n",
       "</style>\n",
       "<table border=\"1\" class=\"dataframe\">\n",
       "  <thead>\n",
       "    <tr style=\"text-align: right;\">\n",
       "      <th></th>\n",
       "      <th>CUST_NO</th>\n",
       "    </tr>\n",
       "    <tr>\n",
       "      <th>CC_IND</th>\n",
       "      <th></th>\n",
       "    </tr>\n",
       "  </thead>\n",
       "  <tbody>\n",
       "    <tr>\n",
       "      <th>0</th>\n",
       "      <td>26731</td>\n",
       "    </tr>\n",
       "    <tr>\n",
       "      <th>1</th>\n",
       "      <td>3269</td>\n",
       "    </tr>\n",
       "  </tbody>\n",
       "</table>\n",
       "</div>"
      ],
      "text/plain": [
       "        CUST_NO\n",
       "CC_IND         \n",
       "0         26731\n",
       "1          3269"
      ]
     },
     "execution_count": 208,
     "metadata": {},
     "output_type": "execute_result"
    }
   ],
   "source": [
    "result[['CUST_NO','CC_IND']].groupby('CC_IND').count()"
   ]
  },
  {
   "cell_type": "code",
   "execution_count": 209,
   "metadata": {},
   "outputs": [
    {
     "data": {
      "text/html": [
       "<div>\n",
       "<style>\n",
       "    .dataframe thead tr:only-child th {\n",
       "        text-align: right;\n",
       "    }\n",
       "\n",
       "    .dataframe thead th {\n",
       "        text-align: left;\n",
       "    }\n",
       "\n",
       "    .dataframe tbody tr th {\n",
       "        vertical-align: top;\n",
       "    }\n",
       "</style>\n",
       "<table border=\"1\" class=\"dataframe\">\n",
       "  <thead>\n",
       "    <tr style=\"text-align: right;\">\n",
       "      <th></th>\n",
       "      <th>CUST_NO</th>\n",
       "    </tr>\n",
       "    <tr>\n",
       "      <th>FX_IND</th>\n",
       "      <th></th>\n",
       "    </tr>\n",
       "  </thead>\n",
       "  <tbody>\n",
       "    <tr>\n",
       "      <th>0</th>\n",
       "      <td>23149</td>\n",
       "    </tr>\n",
       "    <tr>\n",
       "      <th>1</th>\n",
       "      <td>6851</td>\n",
       "    </tr>\n",
       "  </tbody>\n",
       "</table>\n",
       "</div>"
      ],
      "text/plain": [
       "        CUST_NO\n",
       "FX_IND         \n",
       "0         23149\n",
       "1          6851"
      ]
     },
     "execution_count": 209,
     "metadata": {},
     "output_type": "execute_result"
    }
   ],
   "source": [
    "result[['CUST_NO','FX_IND']].groupby('FX_IND').count()"
   ]
  },
  {
   "cell_type": "code",
   "execution_count": 222,
   "metadata": {
    "scrolled": false
   },
   "outputs": [
    {
     "data": {
      "text/html": [
       "<div>\n",
       "<style>\n",
       "    .dataframe thead tr:only-child th {\n",
       "        text-align: right;\n",
       "    }\n",
       "\n",
       "    .dataframe thead th {\n",
       "        text-align: left;\n",
       "    }\n",
       "\n",
       "    .dataframe tbody tr th {\n",
       "        vertical-align: top;\n",
       "    }\n",
       "</style>\n",
       "<table border=\"1\" class=\"dataframe\">\n",
       "  <thead>\n",
       "    <tr style=\"text-align: right;\">\n",
       "      <th></th>\n",
       "      <th>CUST_NO</th>\n",
       "    </tr>\n",
       "    <tr>\n",
       "      <th>LN_IND</th>\n",
       "      <th></th>\n",
       "    </tr>\n",
       "  </thead>\n",
       "  <tbody>\n",
       "    <tr>\n",
       "      <th>0</th>\n",
       "      <td>29385</td>\n",
       "    </tr>\n",
       "    <tr>\n",
       "      <th>1</th>\n",
       "      <td>615</td>\n",
       "    </tr>\n",
       "  </tbody>\n",
       "</table>\n",
       "</div>"
      ],
      "text/plain": [
       "        CUST_NO\n",
       "LN_IND         \n",
       "0         29385\n",
       "1           615"
      ]
     },
     "execution_count": 222,
     "metadata": {},
     "output_type": "execute_result"
    }
   ],
   "source": [
    "result[['CUST_NO','LN_IND']].groupby('LN_IND').count()"
   ]
  },
  {
   "cell_type": "code",
   "execution_count": 223,
   "metadata": {
    "scrolled": false
   },
   "outputs": [
    {
     "data": {
      "text/html": [
       "<div>\n",
       "<style>\n",
       "    .dataframe thead tr:only-child th {\n",
       "        text-align: right;\n",
       "    }\n",
       "\n",
       "    .dataframe thead th {\n",
       "        text-align: left;\n",
       "    }\n",
       "\n",
       "    .dataframe tbody tr th {\n",
       "        vertical-align: top;\n",
       "    }\n",
       "</style>\n",
       "<table border=\"1\" class=\"dataframe\">\n",
       "  <thead>\n",
       "    <tr style=\"text-align: right;\">\n",
       "      <th></th>\n",
       "      <th>CUST_NO</th>\n",
       "    </tr>\n",
       "    <tr>\n",
       "      <th>WM_IND</th>\n",
       "      <th></th>\n",
       "    </tr>\n",
       "  </thead>\n",
       "  <tbody>\n",
       "    <tr>\n",
       "      <th>0</th>\n",
       "      <td>28835</td>\n",
       "    </tr>\n",
       "    <tr>\n",
       "      <th>1</th>\n",
       "      <td>1165</td>\n",
       "    </tr>\n",
       "  </tbody>\n",
       "</table>\n",
       "</div>"
      ],
      "text/plain": [
       "        CUST_NO\n",
       "WM_IND         \n",
       "0         28835\n",
       "1          1165"
      ]
     },
     "execution_count": 223,
     "metadata": {},
     "output_type": "execute_result"
    }
   ],
   "source": [
    "result[['CUST_NO','WM_IND']].groupby('WM_IND').count()"
   ]
  },
  {
   "cell_type": "markdown",
   "metadata": {},
   "source": [
    "# 模型效果"
   ]
  },
  {
   "cell_type": "code",
   "execution_count": null,
   "metadata": {
    "collapsed": true
   },
   "outputs": [],
   "source": [
    "# 準確綠  (此處沒做測試集)\n",
    "cnt1 = 0\n",
    "cnt2 = 0\n",
    "for i in range(len(y_test)):\n",
    "    if ans[i] == y_test[i]:\n",
    "        cnt1 += 1\n",
    "    else:\n",
    "        cnt2 += 1\n",
    "\n",
    "print(\"Accuracy: %.2f %% \" % (100 * cnt1 / (cnt1 + cnt2)))"
   ]
  },
  {
   "cell_type": "code",
   "execution_count": null,
   "metadata": {
    "collapsed": true
   },
   "outputs": [],
   "source": [
    "# 重要變數\n",
    "plot_importance(cc_model)\n",
    "plt.show()"
   ]
  },
  {
   "cell_type": "code",
   "execution_count": 2,
   "metadata": {
    "collapsed": true
   },
   "outputs": [],
   "source": [
    "test = pd.read_csv('D:\\Python\\dataset\\output_20190224_03.csv')"
   ]
  },
  {
   "cell_type": "code",
   "execution_count": 9,
   "metadata": {},
   "outputs": [],
   "source": [
    "test.to_csv('D:\\Python\\dataset\\output_20190226_test.csv',index=False,quoting=2)"
   ]
  }
 ],
 "metadata": {
  "kernelspec": {
   "display_name": "Python 3",
   "language": "python",
   "name": "python3"
  },
  "language_info": {
   "codemirror_mode": {
    "name": "ipython",
    "version": 3
   },
   "file_extension": ".py",
   "mimetype": "text/x-python",
   "name": "python",
   "nbconvert_exporter": "python",
   "pygments_lexer": "ipython3",
   "version": "3.6.1"
  }
 },
 "nbformat": 4,
 "nbformat_minor": 2
}
